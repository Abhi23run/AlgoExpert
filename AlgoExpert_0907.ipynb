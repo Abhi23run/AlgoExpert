{
  "nbformat": 4,
  "nbformat_minor": 0,
  "metadata": {
    "colab": {
      "provenance": [],
      "authorship_tag": "ABX9TyPoIxgm0Ka0iQnuBCLRxkEn",
      "include_colab_link": true
    },
    "kernelspec": {
      "name": "python3",
      "display_name": "Python 3"
    },
    "language_info": {
      "name": "python"
    }
  },
  "cells": [
    {
      "cell_type": "markdown",
      "metadata": {
        "id": "view-in-github",
        "colab_type": "text"
      },
      "source": [
        "<a href=\"https://colab.research.google.com/github/Abhi23run/AlgoExpert/blob/main/AlgoExpert_0907.ipynb\" target=\"_parent\"><img src=\"https://colab.research.google.com/assets/colab-badge.svg\" alt=\"Open In Colab\"/></a>"
      ]
    },
    {
      "cell_type": "markdown",
      "source": [
        "**Binary Search Function - O(log n) search**"
      ],
      "metadata": {
        "id": "ZIfNHYsJz4xT"
      }
    },
    {
      "cell_type": "code",
      "source": [
        "a=[-1,5,10,20,28,3]"
      ],
      "metadata": {
        "id": "k5WBCT5q0KfI"
      },
      "execution_count": 74,
      "outputs": []
    },
    {
      "cell_type": "code",
      "source": [
        "def binary_search(arr,x):\n",
        "  l,r=0,len(arr)-1\n",
        "  while(l<=r):\n",
        "    mid=(l+r)//2\n",
        "    if arr[mid]==x:\n",
        "      return mid\n",
        "    elif arr[mid]>x:\n",
        "      r=mid-1\n",
        "    else:\n",
        "      l=mid+1\n",
        "  return -1\n"
      ],
      "metadata": {
        "id": "5-g9SPs3IA3A"
      },
      "execution_count": 75,
      "outputs": []
    },
    {
      "cell_type": "code",
      "source": [
        "binary_search(a,10)"
      ],
      "metadata": {
        "colab": {
          "base_uri": "https://localhost:8080/"
        },
        "id": "ppSciGIxKWfj",
        "outputId": "e7bd23a2-90c3-476d-c56f-8168eb482850"
      },
      "execution_count": 76,
      "outputs": [
        {
          "output_type": "execute_result",
          "data": {
            "text/plain": [
              "2"
            ]
          },
          "metadata": {},
          "execution_count": 76
        }
      ]
    },
    {
      "cell_type": "markdown",
      "source": [
        "**Find closest number to a given value in an array**"
      ],
      "metadata": {
        "id": "7OB2W-JI0BuO"
      }
    },
    {
      "cell_type": "code",
      "source": [
        "def get_closest(arr,x):\n",
        "  arr=list(sorted(set(arr)))\n",
        "  l,r=0,len(arr)-1\n",
        "  while(l<r):\n",
        "    mid=(l+r)//2\n",
        "    mid_val=abs(arr[mid]-x)\n",
        "    left_val=abs(arr[mid-1]-x)\n",
        "    right_val=abs(arr[mid+1]-x)\n",
        "    min_val=min(mid_val,left_val,right_val)\n",
        "    if min_val==mid_val:\n",
        "      return arr[mid]\n",
        "    elif min_val==left_val:\n",
        "      r=mid-1\n",
        "    else:\n",
        "      l=mid+1\n",
        "  mid=(l+r)//2\n",
        "  return arr[mid]"
      ],
      "metadata": {
        "id": "fwwY7mZkakkM"
      },
      "execution_count": 77,
      "outputs": []
    },
    {
      "cell_type": "code",
      "source": [
        "get_closest(a,13)"
      ],
      "metadata": {
        "colab": {
          "base_uri": "https://localhost:8080/"
        },
        "id": "NUG28m7HxWuB",
        "outputId": "1acce28f-2629-4cee-ba74-cc8d826f1d73"
      },
      "execution_count": 80,
      "outputs": [
        {
          "output_type": "execute_result",
          "data": {
            "text/plain": [
              "10"
            ]
          },
          "metadata": {},
          "execution_count": 80
        }
      ]
    },
    {
      "cell_type": "markdown",
      "source": [
        "**Solving the smallestDifference problem using get_closest as helper function**"
      ],
      "metadata": {
        "id": "00VcuHOt2JGJ"
      }
    },
    {
      "cell_type": "code",
      "source": [
        "arrayOne=[10, 0, 20, 25]\n",
        "arrayTwo=[1005, 1006, 1014, 1032, 1031]"
      ],
      "metadata": {
        "id": "YE85odr82E0e"
      },
      "execution_count": 95,
      "outputs": []
    },
    {
      "cell_type": "code",
      "source": [
        "a,b=sorted(arrayOne),sorted(arrayTwo)"
      ],
      "metadata": {
        "id": "hCP9kxi82V4o"
      },
      "execution_count": 85,
      "outputs": []
    },
    {
      "cell_type": "code",
      "source": [
        "min_diff=1e10\n",
        "for i in a:\n",
        "  closest_num=get_closest(b,i)\n",
        "  curr_diff=abs(closest_num-i)\n",
        "  if curr_diff<min_diff:\n",
        "    min_diff=curr_diff\n",
        "    ans=[i,closest_num]"
      ],
      "metadata": {
        "id": "IzMnIfZf2aEk"
      },
      "execution_count": 86,
      "outputs": []
    },
    {
      "cell_type": "code",
      "source": [
        "ans"
      ],
      "metadata": {
        "colab": {
          "base_uri": "https://localhost:8080/"
        },
        "id": "PKtzjsfP3leT",
        "outputId": "649a0d5b-7749-4009-a05b-f902b5fd6aac"
      },
      "execution_count": 87,
      "outputs": [
        {
          "output_type": "execute_result",
          "data": {
            "text/plain": [
              "[28, 26]"
            ]
          },
          "metadata": {},
          "execution_count": 87
        }
      ]
    },
    {
      "cell_type": "code",
      "source": [
        "def smallestDifference(arrayOne, arrayTwo):\n",
        "  sorted_a,sorted_b=sorted(arrayOne),sorted(arrayTwo)\n",
        "\n",
        "  min_diff=1e10\n",
        "  for i in sorted_a:\n",
        "    ## use the helper function to get the closest number in 2nd array for each element in 1st array\n",
        "    closest_num=get_closest(sorted_b,i)\n",
        "\n",
        "    ## compute the diff b/w both elements\n",
        "    curr_diff=abs(closest_num-i)\n",
        "\n",
        "    # condition to update minimum difference and corresponding elements\n",
        "    if curr_diff<min_diff:\n",
        "      min_diff=curr_diff\n",
        "      ans=[i,closest_num]\n",
        "\n",
        "  return ans\n",
        ""
      ],
      "metadata": {
        "id": "jGm7uh9AxbPo"
      },
      "execution_count": 96,
      "outputs": []
    },
    {
      "cell_type": "code",
      "source": [
        "smallestDifference(arrayOne, arrayTwo)"
      ],
      "metadata": {
        "colab": {
          "base_uri": "https://localhost:8080/"
        },
        "id": "oks9pffT4C3e",
        "outputId": "ca70fba3-77d3-41be-aefc-c87cfbbf8614"
      },
      "execution_count": 97,
      "outputs": [
        {
          "output_type": "execute_result",
          "data": {
            "text/plain": [
              "[25, 1005]"
            ]
          },
          "metadata": {},
          "execution_count": 97
        }
      ]
    },
    {
      "cell_type": "code",
      "source": [],
      "metadata": {
        "id": "tgZLbbJH4F5D"
      },
      "execution_count": null,
      "outputs": []
    }
  ]
}