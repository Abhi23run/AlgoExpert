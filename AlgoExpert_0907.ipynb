{
  "nbformat": 4,
  "nbformat_minor": 0,
  "metadata": {
    "colab": {
      "provenance": [],
      "authorship_tag": "ABX9TyM8UWW+qJc772Xdz7HHb1NJ",
      "include_colab_link": true
    },
    "kernelspec": {
      "name": "python3",
      "display_name": "Python 3"
    },
    "language_info": {
      "name": "python"
    }
  },
  "cells": [
    {
      "cell_type": "markdown",
      "metadata": {
        "id": "view-in-github",
        "colab_type": "text"
      },
      "source": [
        "<a href=\"https://colab.research.google.com/github/Abhi23run/AlgoExpert/blob/main/AlgoExpert_0907.ipynb\" target=\"_parent\"><img src=\"https://colab.research.google.com/assets/colab-badge.svg\" alt=\"Open In Colab\"/></a>"
      ]
    },
    {
      "cell_type": "code",
      "execution_count": null,
      "metadata": {
        "id": "Uz69qR8Y6AbJ"
      },
      "outputs": [],
      "source": [
        "def smallestDifference(arrayOne, arrayTwo):\n",
        "    # Write your code here.\n",
        "    pass"
      ]
    },
    {
      "cell_type": "code",
      "source": [
        "arrayOne=[-1,5,10,20,28,3]\n",
        "arrayTwo=[26,134,135,15,17]"
      ],
      "metadata": {
        "id": "BElLzflE6Gy1"
      },
      "execution_count": 8,
      "outputs": []
    },
    {
      "cell_type": "markdown",
      "source": [
        "**Binary Search Function - O(log n) search**"
      ],
      "metadata": {
        "id": "ZIfNHYsJz4xT"
      }
    },
    {
      "cell_type": "code",
      "source": [
        "a=[-1,5,10,20,28,3]"
      ],
      "metadata": {
        "id": "k5WBCT5q0KfI"
      },
      "execution_count": 74,
      "outputs": []
    },
    {
      "cell_type": "code",
      "source": [
        "def binary_search(arr,x):\n",
        "  l,r=0,len(arr)-1\n",
        "  while(l<=r):\n",
        "    mid=(l+r)//2\n",
        "    if arr[mid]==x:\n",
        "      return mid\n",
        "    elif arr[mid]>x:\n",
        "      r=mid-1\n",
        "    else:\n",
        "      l=mid+1\n",
        "  return -1\n"
      ],
      "metadata": {
        "id": "5-g9SPs3IA3A"
      },
      "execution_count": 75,
      "outputs": []
    },
    {
      "cell_type": "code",
      "source": [
        "binary_search(a,10)"
      ],
      "metadata": {
        "colab": {
          "base_uri": "https://localhost:8080/"
        },
        "id": "ppSciGIxKWfj",
        "outputId": "e7bd23a2-90c3-476d-c56f-8168eb482850"
      },
      "execution_count": 76,
      "outputs": [
        {
          "output_type": "execute_result",
          "data": {
            "text/plain": [
              "2"
            ]
          },
          "metadata": {},
          "execution_count": 76
        }
      ]
    },
    {
      "cell_type": "markdown",
      "source": [
        "**Find closest number to a given value in an array**"
      ],
      "metadata": {
        "id": "7OB2W-JI0BuO"
      }
    },
    {
      "cell_type": "code",
      "source": [
        "def get_closest(arr,x):\n",
        "  arr=list(sorted(set(arr)))\n",
        "  l,r=0,len(arr)-1\n",
        "  while(l<r):\n",
        "    mid=(l+r)//2\n",
        "    mid_val=abs(arr[mid]-x)\n",
        "    left_val=abs(arr[mid-1]-x)\n",
        "    right_val=abs(arr[mid+1]-x)\n",
        "    min_val=min(mid_val,left_val,right_val)\n",
        "    if min_val==mid_val:\n",
        "      return arr[mid]\n",
        "    elif min_val==left_val:\n",
        "      r=mid-1\n",
        "    else:\n",
        "      l=mid+1\n",
        "  mid=(l+r)//2\n",
        "  return arr[mid]"
      ],
      "metadata": {
        "id": "fwwY7mZkakkM"
      },
      "execution_count": 77,
      "outputs": []
    },
    {
      "cell_type": "code",
      "source": [
        "get_closest(a,13)"
      ],
      "metadata": {
        "colab": {
          "base_uri": "https://localhost:8080/"
        },
        "id": "NUG28m7HxWuB",
        "outputId": "1acce28f-2629-4cee-ba74-cc8d826f1d73"
      },
      "execution_count": 80,
      "outputs": [
        {
          "output_type": "execute_result",
          "data": {
            "text/plain": [
              "10"
            ]
          },
          "metadata": {},
          "execution_count": 80
        }
      ]
    },
    {
      "cell_type": "code",
      "source": [],
      "metadata": {
        "id": "jGm7uh9AxbPo"
      },
      "execution_count": null,
      "outputs": []
    }
  ]
}